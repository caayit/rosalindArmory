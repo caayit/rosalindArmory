{
 "cells": [
  {
   "cell_type": "markdown",
   "id": "8a8da3ff",
   "metadata": {},
   "source": [
    "### Introduction to the Bioinformatics Armory\n",
    "\n",
    "**Problem:** This initial problem is aimed at familiarizing you with Rosalind's task-solving pipeline. To solve it, you merely have to take a given DNA sequence and find its nucleotide counts; this problem is equivalent to “Counting DNA Nucleotides” in the Stronghold.\n",
    "\n",
    "Of the many tools for DNA sequence analysis, one of the most popular is the Sequence Manipulation Suite. Commonly known as SMS 2, it comprises a collection of programs for generating, formatting, and analyzing short strands of DNA and polypeptides.\n",
    "\n",
    "One of the simplest SMS 2 programs, called DNA stats, counts the number of occurrences of each nucleotide in a given strand of DNA. An online interface for DNA stats can be found here.\n",
    "\n",
    "**Given:** A DNA string s of length at most 1000 bp.<br>\n",
    "**Return:** Four integers (separated by spaces) representing the respective number of times that the symbols 'A', 'C', 'G', and 'T' occur in s. Note: You must provide your answer in the format shown in the sample output below."
   ]
  },
  {
   "cell_type": "code",
   "execution_count": 4,
   "id": "f1d57ed1",
   "metadata": {},
   "outputs": [],
   "source": [
    "# Get the string\n",
    "\n",
    "f = open('../../../Downloads/rosalind_ini.txt')\n",
    "s = [line.strip() for line in f][0]\n",
    "f.close()"
   ]
  },
  {
   "cell_type": "code",
   "execution_count": 5,
   "id": "a108100f",
   "metadata": {},
   "outputs": [
    {
     "name": "stdout",
     "output_type": "stream",
     "text": [
      "258 234 240 220\n"
     ]
    }
   ],
   "source": [
    "nucleotide_counts = [0]*4 # The order is A,C,G,T\n",
    "\n",
    "for i in s:\n",
    "    nucleotide_counts[0] += (i == 'A')\n",
    "    nucleotide_counts[1] += (i == 'C')\n",
    "    nucleotide_counts[2] += (i == 'G')\n",
    "    nucleotide_counts[3] += (i == 'T')\n",
    "    \n",
    "print(*nucleotide_counts)"
   ]
  },
  {
   "cell_type": "markdown",
   "id": "db0526f0",
   "metadata": {},
   "source": [
    "### GenBank Introduction\n",
    "\n",
    "**Problem:** GenBank comprises several subdivisions:\n",
    "\n",
    "    Nucleotide: a collection of nucleic acid sequences from several sources.\n",
    "    Genome Survey Sequence (GSS): uncharacterized short genomic sequences.\n",
    "    Expressed Sequence Tags, (EST): uncharacterized short cDNA sequences.\n",
    "\n",
    "Searching the Nucleotide database with general text queries will produce the most relevant results. You can also use a simple query based on protein name, gene name or gene symbol.\n",
    "\n",
    "To limit your search to only certain kinds of records, you can search using GenBank's Limits page or alternatively use the Filter your results field to select categories of records after a search.\n",
    "\n",
    "If you cannot find what you are searching for, check how the database interpreted your query by investigating the Search details field on the right side of the page. This field automatically translates your search into standard keywords.\n",
    "\n",
    "For example, if you search for Drosophila, the Search details field will contain (Drosophila[All Fields]), and you will obtain all entries that mention Drosophila (including all its endosymbionts). You can restrict your search to only organisms belonging to the Drosophila genus by using a search tag and searching for Drosophila[Organism].\n",
    "\n",
    "**Given:** A genus name, followed by two dates in YYYY/M/D format.<br>\n",
    "**Return:** The number of Nucleotide GenBank entries for the given genus that were published between the dates specified."
   ]
  },
  {
   "cell_type": "code",
   "execution_count": 13,
   "id": "9dda294a",
   "metadata": {},
   "outputs": [
    {
     "name": "stdout",
     "output_type": "stream",
     "text": [
      "44\n"
     ]
    }
   ],
   "source": [
    "from Bio import Entrez\n",
    "handle = Entrez.esearch(db=\"nucleotide\", term='\"Microphotus\"[Organism] AND (\"2001/02/11\"[Publication Date] : \"2011/05/21\"[Publication Date]')\n",
    "record = Entrez.read(handle)\n",
    "print(record[\"Count\"])"
   ]
  },
  {
   "cell_type": "code",
   "execution_count": null,
   "id": "6bbceff1",
   "metadata": {},
   "outputs": [],
   "source": []
  },
  {
   "cell_type": "code",
   "execution_count": null,
   "id": "c1e529a0",
   "metadata": {},
   "outputs": [],
   "source": []
  },
  {
   "cell_type": "code",
   "execution_count": null,
   "id": "35b9b4fd",
   "metadata": {},
   "outputs": [],
   "source": []
  },
  {
   "cell_type": "code",
   "execution_count": null,
   "id": "c32df9d6",
   "metadata": {},
   "outputs": [],
   "source": []
  },
  {
   "cell_type": "code",
   "execution_count": null,
   "id": "5f2a9b16",
   "metadata": {},
   "outputs": [],
   "source": []
  },
  {
   "cell_type": "code",
   "execution_count": null,
   "id": "58afb22d",
   "metadata": {},
   "outputs": [],
   "source": []
  },
  {
   "cell_type": "code",
   "execution_count": null,
   "id": "bc622f1a",
   "metadata": {},
   "outputs": [],
   "source": []
  },
  {
   "cell_type": "code",
   "execution_count": null,
   "id": "c4a52085",
   "metadata": {},
   "outputs": [],
   "source": []
  },
  {
   "cell_type": "code",
   "execution_count": null,
   "id": "36672b02",
   "metadata": {},
   "outputs": [],
   "source": []
  },
  {
   "cell_type": "code",
   "execution_count": null,
   "id": "b11d4a89",
   "metadata": {},
   "outputs": [],
   "source": []
  },
  {
   "cell_type": "code",
   "execution_count": null,
   "id": "2cb158d1",
   "metadata": {},
   "outputs": [],
   "source": []
  },
  {
   "cell_type": "code",
   "execution_count": null,
   "id": "8d8d7ff7",
   "metadata": {},
   "outputs": [],
   "source": []
  },
  {
   "cell_type": "code",
   "execution_count": null,
   "id": "abbb244d",
   "metadata": {},
   "outputs": [],
   "source": []
  },
  {
   "cell_type": "code",
   "execution_count": null,
   "id": "11e4bc50",
   "metadata": {},
   "outputs": [],
   "source": []
  },
  {
   "cell_type": "code",
   "execution_count": null,
   "id": "f28dc493",
   "metadata": {},
   "outputs": [],
   "source": []
  },
  {
   "cell_type": "code",
   "execution_count": null,
   "id": "6a319e86",
   "metadata": {},
   "outputs": [],
   "source": []
  },
  {
   "cell_type": "code",
   "execution_count": null,
   "id": "271235bc",
   "metadata": {},
   "outputs": [],
   "source": []
  },
  {
   "cell_type": "code",
   "execution_count": null,
   "id": "767be326",
   "metadata": {},
   "outputs": [],
   "source": []
  },
  {
   "cell_type": "code",
   "execution_count": null,
   "id": "bbff30e5",
   "metadata": {},
   "outputs": [],
   "source": []
  }
 ],
 "metadata": {
  "kernelspec": {
   "display_name": "Python 3 (ipykernel)",
   "language": "python",
   "name": "python3"
  },
  "language_info": {
   "codemirror_mode": {
    "name": "ipython",
    "version": 3
   },
   "file_extension": ".py",
   "mimetype": "text/x-python",
   "name": "python",
   "nbconvert_exporter": "python",
   "pygments_lexer": "ipython3",
   "version": "3.11.4"
  }
 },
 "nbformat": 4,
 "nbformat_minor": 5
}
